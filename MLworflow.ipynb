{
 "cells": [
  {
   "cell_type": "markdown",
   "metadata": {
    "id": "xOC6V8JyR54h"
   },
   "source": [
    "# Build ML model with cross-validation\n",
    "\n",
    "* Cross-validation\n",
    "* Logistic regression or Linear SVM model"
   ]
  },
  {
   "cell_type": "code",
   "execution_count": 4,
   "metadata": {},
   "outputs": [],
   "source": [
    "#! pip install imblearn"
   ]
  },
  {
   "cell_type": "code",
   "execution_count": 1,
   "metadata": {},
   "outputs": [
    {
     "name": "stderr",
     "output_type": "stream",
     "text": [
      "COMET INFO: Experiment is live on comet.ml https://www.comet.ml/jwilliamn/brain-trauma/1ec25406a95c44cfa245b11fea7d16b7\n",
      "\n"
     ]
    }
   ],
   "source": [
    "# import comet_ml at the top of your file\n",
    "from comet_ml import Experiment\n",
    "\n",
    "# Create an experiment with your api key:\n",
    "experiment = Experiment(\n",
    "    api_key=\"csHgcCHtNQ4Jpx86Nr58xilWl\",\n",
    "    project_name=\"brain-trauma\",\n",
    "    workspace=\"jwilliamn\",\n",
    ")"
   ]
  },
  {
   "cell_type": "code",
   "execution_count": 14,
   "metadata": {
    "id": "W7FiCYqOR54j"
   },
   "outputs": [],
   "source": [
    "import pandas as pd\n",
    "import numpy as np\n",
    "import matplotlib.pyplot as plt\n",
    "import seaborn as sns\n",
    "\n",
    "from sklearn.model_selection import train_test_split, GridSearchCV, cross_val_predict, cross_val_score\n",
    "from sklearn.preprocessing import StandardScaler\n",
    "from sklearn.metrics import roc_auc_score, accuracy_score, confusion_matrix\n",
    "from sklearn.ensemble import RandomForestClassifier\n",
    "from sklearn.naive_bayes import GaussianNB\n",
    "from sklearn.linear_model import LogisticRegression\n",
    "from sklearn.model_selection import KFold\n",
    "from sklearn.pipeline import Pipeline\n",
    "    \n",
    "from imblearn.ensemble import BalancedRandomForestClassifier\n",
    "from imblearn.metrics import sensitivity_score, specificity_score\n",
    "\n",
    "import warnings\n",
    "warnings.filterwarnings('ignore')"
   ]
  },
  {
   "cell_type": "code",
   "execution_count": 3,
   "metadata": {
    "id": "I3Char8kejSR"
   },
   "outputs": [],
   "source": [
    "data = pd.read_csv('ml_data/featuresML.csv')"
   ]
  },
  {
   "cell_type": "code",
   "execution_count": 4,
   "metadata": {
    "colab": {
     "base_uri": "https://localhost:8080/",
     "height": 424
    },
    "id": "QlXDE4O0fDel",
    "outputId": "858ac85f-37f3-4bd1-b1e4-4e7926d09ad3"
   },
   "outputs": [
    {
     "data": {
      "text/html": [
       "<div>\n",
       "<style scoped>\n",
       "    .dataframe tbody tr th:only-of-type {\n",
       "        vertical-align: middle;\n",
       "    }\n",
       "\n",
       "    .dataframe tbody tr th {\n",
       "        vertical-align: top;\n",
       "    }\n",
       "\n",
       "    .dataframe thead th {\n",
       "        text-align: right;\n",
       "    }\n",
       "</style>\n",
       "<table border=\"1\" class=\"dataframe\">\n",
       "  <thead>\n",
       "    <tr style=\"text-align: right;\">\n",
       "      <th></th>\n",
       "      <th>coh_nofilt_fp2_f8</th>\n",
       "      <th>coh_nofilt_f7_f3</th>\n",
       "      <th>coh_nofilt_f7_t3</th>\n",
       "      <th>coh_nofilt_f7_t5</th>\n",
       "      <th>coh_nofilt_t3_c3</th>\n",
       "      <th>coh_nofilt_t3_t4</th>\n",
       "      <th>coh_nofilt_t3_t5</th>\n",
       "      <th>coh_nofilt_t3_t6</th>\n",
       "      <th>coh_nofilt_c4_p3</th>\n",
       "      <th>coh_nofilt_t5_t6</th>\n",
       "      <th>...</th>\n",
       "      <th>bands_gamma_p3</th>\n",
       "      <th>bands_alpha_t6</th>\n",
       "      <th>bands_beta_t6</th>\n",
       "      <th>bands_alpha_o1</th>\n",
       "      <th>bands_gamma_o1</th>\n",
       "      <th>bands_beta_o2</th>\n",
       "      <th>psi_alpha_c4_fz</th>\n",
       "      <th>psi_alpha_pz_p3</th>\n",
       "      <th>fn</th>\n",
       "      <th>target</th>\n",
       "    </tr>\n",
       "  </thead>\n",
       "  <tbody>\n",
       "    <tr>\n",
       "      <td>0</td>\n",
       "      <td>0.898959</td>\n",
       "      <td>0.708213</td>\n",
       "      <td>0.745451</td>\n",
       "      <td>0.551259</td>\n",
       "      <td>0.581465</td>\n",
       "      <td>0.754051</td>\n",
       "      <td>0.688510</td>\n",
       "      <td>0.588942</td>\n",
       "      <td>0.374822</td>\n",
       "      <td>0.764996</td>\n",
       "      <td>...</td>\n",
       "      <td>0.574888</td>\n",
       "      <td>24.443810</td>\n",
       "      <td>14.672073</td>\n",
       "      <td>22.853672</td>\n",
       "      <td>0.787576</td>\n",
       "      <td>11.553152</td>\n",
       "      <td>-0.453495</td>\n",
       "      <td>-0.040627</td>\n",
       "      <td>b906373005ba09e6.csv</td>\n",
       "      <td>1</td>\n",
       "    </tr>\n",
       "    <tr>\n",
       "      <td>1</td>\n",
       "      <td>0.821351</td>\n",
       "      <td>0.837714</td>\n",
       "      <td>0.801349</td>\n",
       "      <td>0.805891</td>\n",
       "      <td>0.744514</td>\n",
       "      <td>0.650385</td>\n",
       "      <td>0.783752</td>\n",
       "      <td>0.642973</td>\n",
       "      <td>0.652106</td>\n",
       "      <td>0.749840</td>\n",
       "      <td>...</td>\n",
       "      <td>0.045172</td>\n",
       "      <td>55.977540</td>\n",
       "      <td>28.794784</td>\n",
       "      <td>85.863173</td>\n",
       "      <td>0.167025</td>\n",
       "      <td>31.411912</td>\n",
       "      <td>-1.310173</td>\n",
       "      <td>-3.639103</td>\n",
       "      <td>bc8568311c86157d.csv</td>\n",
       "      <td>1</td>\n",
       "    </tr>\n",
       "    <tr>\n",
       "      <td>2</td>\n",
       "      <td>0.627041</td>\n",
       "      <td>0.552460</td>\n",
       "      <td>0.749100</td>\n",
       "      <td>0.596588</td>\n",
       "      <td>0.505669</td>\n",
       "      <td>0.551182</td>\n",
       "      <td>0.686000</td>\n",
       "      <td>0.591421</td>\n",
       "      <td>0.389563</td>\n",
       "      <td>0.583709</td>\n",
       "      <td>...</td>\n",
       "      <td>7.246699</td>\n",
       "      <td>39.635000</td>\n",
       "      <td>11.160918</td>\n",
       "      <td>51.235402</td>\n",
       "      <td>19.754951</td>\n",
       "      <td>20.405893</td>\n",
       "      <td>-0.292522</td>\n",
       "      <td>0.585621</td>\n",
       "      <td>5c9ca89c610ef553.csv</td>\n",
       "      <td>1</td>\n",
       "    </tr>\n",
       "    <tr>\n",
       "      <td>3</td>\n",
       "      <td>0.901875</td>\n",
       "      <td>0.950780</td>\n",
       "      <td>0.943904</td>\n",
       "      <td>0.798676</td>\n",
       "      <td>0.865162</td>\n",
       "      <td>0.824546</td>\n",
       "      <td>0.863728</td>\n",
       "      <td>0.676856</td>\n",
       "      <td>0.366865</td>\n",
       "      <td>0.726732</td>\n",
       "      <td>...</td>\n",
       "      <td>0.107074</td>\n",
       "      <td>113.937982</td>\n",
       "      <td>22.749786</td>\n",
       "      <td>79.578831</td>\n",
       "      <td>0.116438</td>\n",
       "      <td>23.191103</td>\n",
       "      <td>2.041392</td>\n",
       "      <td>0.666601</td>\n",
       "      <td>2a4a9f39f461ddbd.csv</td>\n",
       "      <td>1</td>\n",
       "    </tr>\n",
       "    <tr>\n",
       "      <td>4</td>\n",
       "      <td>0.669300</td>\n",
       "      <td>0.574855</td>\n",
       "      <td>0.609371</td>\n",
       "      <td>0.429392</td>\n",
       "      <td>0.503848</td>\n",
       "      <td>0.424970</td>\n",
       "      <td>0.513524</td>\n",
       "      <td>0.449774</td>\n",
       "      <td>0.436716</td>\n",
       "      <td>0.670137</td>\n",
       "      <td>...</td>\n",
       "      <td>0.131500</td>\n",
       "      <td>21.527182</td>\n",
       "      <td>7.231482</td>\n",
       "      <td>14.783130</td>\n",
       "      <td>0.481252</td>\n",
       "      <td>6.826721</td>\n",
       "      <td>0.909651</td>\n",
       "      <td>0.368169</td>\n",
       "      <td>a4c28a88c78ef3f5.csv</td>\n",
       "      <td>1</td>\n",
       "    </tr>\n",
       "    <tr>\n",
       "      <td>...</td>\n",
       "      <td>...</td>\n",
       "      <td>...</td>\n",
       "      <td>...</td>\n",
       "      <td>...</td>\n",
       "      <td>...</td>\n",
       "      <td>...</td>\n",
       "      <td>...</td>\n",
       "      <td>...</td>\n",
       "      <td>...</td>\n",
       "      <td>...</td>\n",
       "      <td>...</td>\n",
       "      <td>...</td>\n",
       "      <td>...</td>\n",
       "      <td>...</td>\n",
       "      <td>...</td>\n",
       "      <td>...</td>\n",
       "      <td>...</td>\n",
       "      <td>...</td>\n",
       "      <td>...</td>\n",
       "      <td>...</td>\n",
       "      <td>...</td>\n",
       "    </tr>\n",
       "    <tr>\n",
       "      <td>180</td>\n",
       "      <td>0.808646</td>\n",
       "      <td>0.986471</td>\n",
       "      <td>0.764094</td>\n",
       "      <td>0.556343</td>\n",
       "      <td>0.672812</td>\n",
       "      <td>0.828388</td>\n",
       "      <td>0.819582</td>\n",
       "      <td>0.789529</td>\n",
       "      <td>0.587434</td>\n",
       "      <td>0.892181</td>\n",
       "      <td>...</td>\n",
       "      <td>0.372073</td>\n",
       "      <td>68.217877</td>\n",
       "      <td>15.747577</td>\n",
       "      <td>107.894848</td>\n",
       "      <td>0.758138</td>\n",
       "      <td>17.706730</td>\n",
       "      <td>-1.541190</td>\n",
       "      <td>-0.041241</td>\n",
       "      <td>d668db5269381df8.csv</td>\n",
       "      <td>0</td>\n",
       "    </tr>\n",
       "    <tr>\n",
       "      <td>181</td>\n",
       "      <td>0.747423</td>\n",
       "      <td>0.857544</td>\n",
       "      <td>0.874634</td>\n",
       "      <td>0.591820</td>\n",
       "      <td>0.881394</td>\n",
       "      <td>0.751821</td>\n",
       "      <td>0.811235</td>\n",
       "      <td>0.551895</td>\n",
       "      <td>0.610649</td>\n",
       "      <td>0.742634</td>\n",
       "      <td>...</td>\n",
       "      <td>0.883916</td>\n",
       "      <td>4.777362</td>\n",
       "      <td>8.292166</td>\n",
       "      <td>14.857729</td>\n",
       "      <td>1.253049</td>\n",
       "      <td>9.081738</td>\n",
       "      <td>-0.093786</td>\n",
       "      <td>-0.065965</td>\n",
       "      <td>f85f937f89136a05.csv</td>\n",
       "      <td>0</td>\n",
       "    </tr>\n",
       "    <tr>\n",
       "      <td>182</td>\n",
       "      <td>0.629094</td>\n",
       "      <td>0.695265</td>\n",
       "      <td>0.652384</td>\n",
       "      <td>0.565711</td>\n",
       "      <td>0.668599</td>\n",
       "      <td>0.630385</td>\n",
       "      <td>0.725036</td>\n",
       "      <td>0.677443</td>\n",
       "      <td>0.474455</td>\n",
       "      <td>0.870580</td>\n",
       "      <td>...</td>\n",
       "      <td>0.387391</td>\n",
       "      <td>25.329833</td>\n",
       "      <td>6.417887</td>\n",
       "      <td>25.829750</td>\n",
       "      <td>0.722493</td>\n",
       "      <td>6.207193</td>\n",
       "      <td>1.737656</td>\n",
       "      <td>1.205893</td>\n",
       "      <td>3ed5ff2942862803.csv</td>\n",
       "      <td>0</td>\n",
       "    </tr>\n",
       "    <tr>\n",
       "      <td>183</td>\n",
       "      <td>0.777284</td>\n",
       "      <td>0.621506</td>\n",
       "      <td>0.761178</td>\n",
       "      <td>0.402753</td>\n",
       "      <td>0.611266</td>\n",
       "      <td>0.437993</td>\n",
       "      <td>0.673949</td>\n",
       "      <td>0.388979</td>\n",
       "      <td>0.386523</td>\n",
       "      <td>0.478244</td>\n",
       "      <td>...</td>\n",
       "      <td>1.971604</td>\n",
       "      <td>407.507288</td>\n",
       "      <td>26.820247</td>\n",
       "      <td>233.941636</td>\n",
       "      <td>0.756009</td>\n",
       "      <td>13.533132</td>\n",
       "      <td>-0.735945</td>\n",
       "      <td>0.677076</td>\n",
       "      <td>d9ae063bfbaa9569.csv</td>\n",
       "      <td>0</td>\n",
       "    </tr>\n",
       "    <tr>\n",
       "      <td>184</td>\n",
       "      <td>0.550954</td>\n",
       "      <td>0.761113</td>\n",
       "      <td>0.959123</td>\n",
       "      <td>0.930669</td>\n",
       "      <td>0.845448</td>\n",
       "      <td>0.724024</td>\n",
       "      <td>0.926595</td>\n",
       "      <td>0.531510</td>\n",
       "      <td>0.416921</td>\n",
       "      <td>0.565052</td>\n",
       "      <td>...</td>\n",
       "      <td>7.918725</td>\n",
       "      <td>37.035273</td>\n",
       "      <td>19.740448</td>\n",
       "      <td>62.427705</td>\n",
       "      <td>7.060864</td>\n",
       "      <td>38.362795</td>\n",
       "      <td>7.562725</td>\n",
       "      <td>-0.287884</td>\n",
       "      <td>43f5f303426794c6.csv</td>\n",
       "      <td>0</td>\n",
       "    </tr>\n",
       "  </tbody>\n",
       "</table>\n",
       "<p>185 rows × 131 columns</p>\n",
       "</div>"
      ],
      "text/plain": [
       "     coh_nofilt_fp2_f8  coh_nofilt_f7_f3  coh_nofilt_f7_t3  coh_nofilt_f7_t5  \\\n",
       "0             0.898959          0.708213          0.745451          0.551259   \n",
       "1             0.821351          0.837714          0.801349          0.805891   \n",
       "2             0.627041          0.552460          0.749100          0.596588   \n",
       "3             0.901875          0.950780          0.943904          0.798676   \n",
       "4             0.669300          0.574855          0.609371          0.429392   \n",
       "..                 ...               ...               ...               ...   \n",
       "180           0.808646          0.986471          0.764094          0.556343   \n",
       "181           0.747423          0.857544          0.874634          0.591820   \n",
       "182           0.629094          0.695265          0.652384          0.565711   \n",
       "183           0.777284          0.621506          0.761178          0.402753   \n",
       "184           0.550954          0.761113          0.959123          0.930669   \n",
       "\n",
       "     coh_nofilt_t3_c3  coh_nofilt_t3_t4  coh_nofilt_t3_t5  coh_nofilt_t3_t6  \\\n",
       "0            0.581465          0.754051          0.688510          0.588942   \n",
       "1            0.744514          0.650385          0.783752          0.642973   \n",
       "2            0.505669          0.551182          0.686000          0.591421   \n",
       "3            0.865162          0.824546          0.863728          0.676856   \n",
       "4            0.503848          0.424970          0.513524          0.449774   \n",
       "..                ...               ...               ...               ...   \n",
       "180          0.672812          0.828388          0.819582          0.789529   \n",
       "181          0.881394          0.751821          0.811235          0.551895   \n",
       "182          0.668599          0.630385          0.725036          0.677443   \n",
       "183          0.611266          0.437993          0.673949          0.388979   \n",
       "184          0.845448          0.724024          0.926595          0.531510   \n",
       "\n",
       "     coh_nofilt_c4_p3  coh_nofilt_t5_t6  ...  bands_gamma_p3  bands_alpha_t6  \\\n",
       "0            0.374822          0.764996  ...        0.574888       24.443810   \n",
       "1            0.652106          0.749840  ...        0.045172       55.977540   \n",
       "2            0.389563          0.583709  ...        7.246699       39.635000   \n",
       "3            0.366865          0.726732  ...        0.107074      113.937982   \n",
       "4            0.436716          0.670137  ...        0.131500       21.527182   \n",
       "..                ...               ...  ...             ...             ...   \n",
       "180          0.587434          0.892181  ...        0.372073       68.217877   \n",
       "181          0.610649          0.742634  ...        0.883916        4.777362   \n",
       "182          0.474455          0.870580  ...        0.387391       25.329833   \n",
       "183          0.386523          0.478244  ...        1.971604      407.507288   \n",
       "184          0.416921          0.565052  ...        7.918725       37.035273   \n",
       "\n",
       "     bands_beta_t6  bands_alpha_o1  bands_gamma_o1  bands_beta_o2  \\\n",
       "0        14.672073       22.853672        0.787576      11.553152   \n",
       "1        28.794784       85.863173        0.167025      31.411912   \n",
       "2        11.160918       51.235402       19.754951      20.405893   \n",
       "3        22.749786       79.578831        0.116438      23.191103   \n",
       "4         7.231482       14.783130        0.481252       6.826721   \n",
       "..             ...             ...             ...            ...   \n",
       "180      15.747577      107.894848        0.758138      17.706730   \n",
       "181       8.292166       14.857729        1.253049       9.081738   \n",
       "182       6.417887       25.829750        0.722493       6.207193   \n",
       "183      26.820247      233.941636        0.756009      13.533132   \n",
       "184      19.740448       62.427705        7.060864      38.362795   \n",
       "\n",
       "     psi_alpha_c4_fz  psi_alpha_pz_p3                    fn  target  \n",
       "0          -0.453495        -0.040627  b906373005ba09e6.csv       1  \n",
       "1          -1.310173        -3.639103  bc8568311c86157d.csv       1  \n",
       "2          -0.292522         0.585621  5c9ca89c610ef553.csv       1  \n",
       "3           2.041392         0.666601  2a4a9f39f461ddbd.csv       1  \n",
       "4           0.909651         0.368169  a4c28a88c78ef3f5.csv       1  \n",
       "..               ...              ...                   ...     ...  \n",
       "180        -1.541190        -0.041241  d668db5269381df8.csv       0  \n",
       "181        -0.093786        -0.065965  f85f937f89136a05.csv       0  \n",
       "182         1.737656         1.205893  3ed5ff2942862803.csv       0  \n",
       "183        -0.735945         0.677076  d9ae063bfbaa9569.csv       0  \n",
       "184         7.562725        -0.287884  43f5f303426794c6.csv       0  \n",
       "\n",
       "[185 rows x 131 columns]"
      ]
     },
     "execution_count": 4,
     "metadata": {},
     "output_type": "execute_result"
    }
   ],
   "source": [
    "data"
   ]
  },
  {
   "cell_type": "code",
   "execution_count": 5,
   "metadata": {
    "id": "QCalUOKzfEUT"
   },
   "outputs": [],
   "source": [
    "X = data.drop(['fn','target'], axis=1)\n",
    "y = data.target"
   ]
  },
  {
   "cell_type": "code",
   "execution_count": 6,
   "metadata": {
    "id": "7pth9lSYfPsC"
   },
   "outputs": [],
   "source": [
    "X_train, X_test, y_train, y_test = train_test_split(X, y, test_size=0.3)#, stratify=y)"
   ]
  },
  {
   "cell_type": "code",
   "execution_count": 7,
   "metadata": {},
   "outputs": [
    {
     "data": {
      "text/plain": [
       "<matplotlib.axes._subplots.AxesSubplot at 0x7fa134893710>"
      ]
     },
     "execution_count": 7,
     "metadata": {},
     "output_type": "execute_result"
    },
    {
     "data": {
      "image/png": "[encoded data removed]",
      "text/plain": [
       "<Figure size 576x288 with 2 Axes>"
      ]
     },
     "metadata": {
      "needs_background": "light"
     },
     "output_type": "display_data"
    }
   ],
   "source": [
    "fig, axs = plt.subplots(1,2, figsize=[8,4])\n",
    "sns.countplot(y_train, ax=axs[0])\n",
    "sns.countplot(y_test, ax=axs[1])"
   ]
  },
  {
   "cell_type": "code",
   "execution_count": 8,
   "metadata": {
    "id": "idetDzFmfbpA"
   },
   "outputs": [],
   "source": [
    "scaler = StandardScaler()\n",
    "X_train_sc = scaler.fit_transform(X_train)\n",
    "X_test_sc = scaler.fit_transform(X_test)\n",
    "X_sc = scaler.fit_transform(X)"
   ]
  },
  {
   "cell_type": "code",
   "execution_count": 9,
   "metadata": {},
   "outputs": [],
   "source": [
    "experiment.set_name(\"RandomForest 10 cross validated\")"
   ]
  },
  {
   "cell_type": "code",
   "execution_count": 10,
   "metadata": {},
   "outputs": [
    {
     "name": "stdout",
     "output_type": "stream",
     "text": [
      "tuned hpyerparameters :(best parameters)  {'class_weight': 'balanced', 'max_features': 'sqrt', 'n_estimators': 100}\n",
      "accuracy : 0.9301282051282052\n"
     ]
    }
   ],
   "source": [
    "grid={'n_estimators':[10, 100, 300, 500], 'max_features': ['auto', 'sqrt', 'log2'],\"class_weight\":['none','balanced']}\n",
    "\n",
    "rdf=RandomForestClassifier()\n",
    "\n",
    "rdf_cv=GridSearchCV(rdf,grid,cv=10, n_jobs=-1)\n",
    "rdf_cv.fit(X_train_sc,y_train)\n",
    "\n",
    "print(\"tuned hpyerparameters :(best parameters) \",rdf_cv.best_params_)\n",
    "print(\"accuracy :\",rdf_cv.best_score_)"
   ]
  },
  {
   "cell_type": "code",
   "execution_count": 11,
   "metadata": {},
   "outputs": [],
   "source": [
    "for i in range(len(rdf_cv.cv_results_['params'])):\n",
    "    for k,v in rdf_cv.cv_results_.items():\n",
    "        if k == \"params\":\n",
    "            experiment.log_parameters(v[i])\n",
    "        else:\n",
    "            experiment.log_metric(k,v[i])"
   ]
  },
  {
   "cell_type": "code",
   "execution_count": null,
   "metadata": {
    "colab": {
     "base_uri": "https://localhost:8080/",
     "height": 50
    },
    "id": "b3V3X3BMfqSm",
    "outputId": "070b02cb-bcff-4a82-d2cd-2fcdcd5dfaf5"
   },
   "outputs": [
    {
     "name": "stdout",
     "output_type": "stream",
     "text": [
      "tuned hpyerparameters :(best parameters)  {'class_weight': 'balanced', 'max_features': 'log2', 'n_estimators': 100}\n",
      "accuracy : 0.8455128205128204\n"
     ]
    }
   ],
   "source": [
    "# grid={'n_estimators':[10, 100, 300, 500], 'max_features': ['auto', 'sqrt', 'log2'],\"class_weight\":['none','balanced']}\n",
    "\n",
    "# rdf=RandomForestClassifier()\n",
    "\n",
    "# rdf_cv=GridSearchCV(rdf,grid,cv=10, n_jobs=-1)\n",
    "# rdf_cv.fit(X_train_sc,y_train)\n",
    "\n",
    "# print(\"tuned hpyerparameters :(best parameters) \",rdf_cv.best_params_)\n",
    "# print(\"accuracy :\",rdf_cv.best_score_)"
   ]
  },
  {
   "cell_type": "code",
   "execution_count": 19,
   "metadata": {},
   "outputs": [],
   "source": [
    "experiment.set_name(\"RandomForest for best params\")"
   ]
  },
  {
   "cell_type": "code",
   "execution_count": 15,
   "metadata": {
    "colab": {
     "base_uri": "https://localhost:8080/",
     "height": 167
    },
    "id": "OQTCCuxjfq7f",
    "outputId": "ae9452fe-7b7e-4dbc-d4c6-bcd0335714a4"
   },
   "outputs": [
    {
     "name": "stdout",
     "output_type": "stream",
     "text": [
      "ROC_AUC score train:  0.9594101123595505\n",
      "ROC_AUC score test:  0.9594101123595505\n",
      "Sensitivity for train:  0.775\n",
      "Sensitivity for test:  0.45454545454545453\n",
      "Specificity for train:  0.9550561797752809\n",
      "Specificity for test:  1.0\n",
      "Confusion matrix for RFC\n"
     ]
    },
    {
     "data": {
      "text/plain": [
       "array([[45,  0],\n",
       "       [ 6,  5]])"
      ]
     },
     "execution_count": 15,
     "metadata": {},
     "output_type": "execute_result"
    }
   ],
   "source": [
    "rdf = RandomForestClassifier(max_features='log2', n_estimators=100, class_weight='balanced')\n",
    "rdf.fit(X_train_sc, y_train)\n",
    "\n",
    "y_pred_trainp = cross_val_predict(rdf, X_train_sc, y_train, method='predict_proba', cv=10)[:,1] \n",
    "y_predp = cross_val_predict(rdf, X_test_sc, y_test, method='predict_proba', cv=10)[:,1] \n",
    "y_allp = cross_val_predict(rdf, X_sc, y, method='predict_proba', cv=10)[:,1]\n",
    "roc_train = roc_auc_score(y_train, y_pred_trainp)\n",
    "roc_test = roc_auc_score(y_test, y_predp)\n",
    "roc_all = roc_auc_score(y, y_allp)\n",
    "print('ROC_AUC score train: ', roc_train)\n",
    "print('ROC_AUC score test: ', roc_train)\n",
    "\n",
    "y_pred_train = cross_val_predict(rdf, X_train_sc, y_train, method='predict', cv=10)\n",
    "y_pred = cross_val_predict(rdf, X_test_sc, y_test, method='predict', cv=10)\n",
    "sen_train = sensitivity_score(y_train, y_pred_train)\n",
    "sen_test = sensitivity_score(y_test, y_pred)\n",
    "spe_train = specificity_score(y_train, y_pred_train)\n",
    "spe_test = specificity_score(y_test, y_pred)\n",
    "print('Sensitivity for train: ', sen_train)\n",
    "print('Sensitivity for test: ', sen_test)\n",
    "print('Specificity for train: ', spe_train)\n",
    "print('Specificity for test: ', spe_test)\n",
    "\n",
    "print('Confusion matrix for RFC')\n",
    "confusion_matrix(y_test, y_pred) "
   ]
  },
  {
   "cell_type": "code",
   "execution_count": 21,
   "metadata": {
    "colab": {
     "base_uri": "https://localhost:8080/",
     "height": 281
    },
    "id": "osLKHl2blaJE",
    "outputId": "53c549f1-7a3d-405c-efeb-c276908ab660"
   },
   "outputs": [
    {
     "data": {
      "text/plain": [
       "[<matplotlib.lines.Line2D at 0x7f867e981390>]"
      ]
     },
     "execution_count": 21,
     "metadata": {},
     "output_type": "execute_result"
    },
    {
     "data": {
      "image/png": "[encoded data removed]",
      "text/plain": [
       "<Figure size 576x288 with 2 Axes>"
      ]
     },
     "metadata": {
      "needs_background": "light"
     },
     "output_type": "display_data"
    }
   ],
   "source": [
    "fig, axs = plt.subplots(1,2, figsize=[8,4])\n",
    "\n",
    "axs[0].plot(y_train.values, 'ko')\n",
    "axs[0].plot(y_pred_trainp, 'o')\n",
    "axs[0].plot(y_pred_train, 'o')\n",
    "\n",
    "axs[1].plot(y_test.values, 'ko')\n",
    "axs[1].plot(y_predp, 'o')\n",
    "axs[1].plot(y_pred, 'o')"
   ]
  },
  {
   "cell_type": "code",
   "execution_count": null,
   "metadata": {
    "colab": {
     "base_uri": "https://localhost:8080/",
     "height": 167
    },
    "id": "9gwcSnGtfrJi",
    "outputId": "82460a21-45ee-4b26-e0f1-85eb0823ffb3"
   },
   "outputs": [
    {
     "name": "stdout",
     "output_type": "stream",
     "text": [
      "ROC_AUC score train:  0.7710047003525264\n",
      "ROC_AUC score test:  0.7710047003525264\n",
      "Sensitivity for train:  0.7567567567567568\n",
      "Sensitivity for test:  0.7857142857142857\n",
      "Specificity for train:  0.6956521739130435\n",
      "Specificity for test:  0.8571428571428571\n",
      "Confusion matrix for GNB\n"
     ]
    },
    {
     "data": {
      "text/plain": [
       "array([[36,  6],\n",
       "       [ 3, 11]])"
      ]
     },
     "execution_count": 25,
     "metadata": {
      "tags": []
     },
     "output_type": "execute_result"
    }
   ],
   "source": [
    "gnb = GaussianNB().fit(X_train_sc, y_train) \n",
    "\n",
    "y_pred_trainp = cross_val_predict(gnb, X_train_sc, y_train, method='predict_proba', cv=10)[:,1] \n",
    "y_predp = cross_val_predict(gnb, X_test_sc, y_test, method='predict_proba', cv=10)[:,1] \n",
    "y_allp = cross_val_predict(gnb, X_sc, y, method='predict_proba', cv=10)[:,1]\n",
    "roc_train = roc_auc_score(y_train, y_pred_trainp)\n",
    "roc_test = roc_auc_score(y_test, y_predp)\n",
    "roc_all = roc_auc_score(y, y_allp)\n",
    "print('ROC_AUC score train: ', roc_train)\n",
    "print('ROC_AUC score test: ', roc_train)\n",
    "\n",
    "y_pred_train = cross_val_predict(gnb, X_train_sc, y_train, method='predict', cv=10)\n",
    "y_pred = cross_val_predict(gnb, X_test_sc, y_test, method='predict', cv=10)\n",
    "sen_train = sensitivity_score(y_train, y_pred_train)\n",
    "sen_test = sensitivity_score(y_test, y_pred)\n",
    "spe_train = specificity_score(y_train, y_pred_train)\n",
    "spe_test = specificity_score(y_test, y_pred)\n",
    "print('Sensitivity for train: ', sen_train)\n",
    "print('Sensitivity for test: ', sen_test)\n",
    "print('Specificity for train: ', spe_train)\n",
    "print('Specificity for test: ', spe_test) \n",
    "\n",
    "print('Confusion matrix for GNB')\n",
    "confusion_matrix(y_test, y_pred)"
   ]
  },
  {
   "cell_type": "code",
   "execution_count": 24,
   "metadata": {
    "id": "61ZpBF-hfqRU"
   },
   "outputs": [],
   "source": [
    "experiment.set_name(\"LogisticRegression 10 cross validated\")\n"
   ]
  },
  {
   "cell_type": "code",
   "execution_count": 26,
   "metadata": {
    "id": "cT93ImqsfqO_"
   },
   "outputs": [
    {
     "name": "stdout",
     "output_type": "stream",
     "text": [
      "tuned hpyerparameters :(best parameters)  {'C': 0.1, 'penalty': 'l2'}\n",
      "accuracy : 0.9070512820512822\n"
     ]
    }
   ],
   "source": [
    "\n",
    "grid={\"C\":np.logspace(-3,3,7), \"penalty\":[\"l1\",\"l2\"]}\n",
    "\n",
    "clf=LogisticRegression()\n",
    "\n",
    "clf_cv=GridSearchCV(clf,grid,cv=10, n_jobs=-1)\n",
    "clf_cv.fit(X_train_sc,y_train)\n",
    "\n",
    "print(\"tuned hpyerparameters :(best parameters) \",clf_cv.best_params_)\n",
    "print(\"accuracy :\",clf_cv.best_score_)"
   ]
  },
  {
   "cell_type": "code",
   "execution_count": 48,
   "metadata": {},
   "outputs": [],
   "source": [
    "experiment.set_name(\"LogisticRegression 10 cross validated\")"
   ]
  },
  {
   "cell_type": "code",
   "execution_count": 34,
   "metadata": {},
   "outputs": [],
   "source": [
    "#y_train = y_train.to_numpy()"
   ]
  },
  {
   "cell_type": "code",
   "execution_count": 49,
   "metadata": {},
   "outputs": [],
   "source": [
    "kf = KFold(n_splits=10)\n",
    "curr_fold = 0\n",
    "acc_list = []\n",
    "\n",
    "for train_idx, test_idx in kf.split(X_train_sc):\n",
    "    clf = LogisticRegression()\n",
    "    \n",
    "    clf.fit(X_train_sc[train_idx], y_train[train_idx])\n",
    "\n",
    "    # Predict unseen test data based on fitted classifer\n",
    "    predicted = clf.predict(X_train_sc[test_idx])\n",
    "\n",
    "    # Compute accuracy\n",
    "    acc = accuracy_score(y_train[test_idx].tolist(), predicted)\n",
    "    acc_list.append(acc)\n",
    "    experiment.log_metric(\"accuracy_fold_%s\" % curr_fold, acc)\n",
    "\n",
    "    curr_fold += 1\n",
    "\n",
    "experiment.log_metric(\"average accuracy\", np.average(acc_list))"
   ]
  },
  {
   "cell_type": "code",
   "execution_count": 39,
   "metadata": {},
   "outputs": [
    {
     "data": {
      "text/plain": [
       "0.9166666666666666"
      ]
     },
     "execution_count": 39,
     "metadata": {},
     "output_type": "execute_result"
    }
   ],
   "source": [
    "acc"
   ]
  },
  {
   "cell_type": "code",
   "execution_count": 40,
   "metadata": {},
   "outputs": [],
   "source": [
    "from sklearn import svm"
   ]
  },
  {
   "cell_type": "code",
   "execution_count": 41,
   "metadata": {},
   "outputs": [],
   "source": [
    "experiment.set_name(\"SVC 10 cross validated\")"
   ]
  },
  {
   "cell_type": "code",
   "execution_count": 45,
   "metadata": {},
   "outputs": [
    {
     "name": "stdout",
     "output_type": "stream",
     "text": [
      "0.7692307692307693\n",
      "0.7692307692307693\n",
      "0.9230769230769231\n",
      "0.8461538461538461\n",
      "1.0\n",
      "0.9230769230769231\n",
      "0.8461538461538461\n",
      "0.8461538461538461\n",
      "1.0\n",
      "0.9166666666666666\n"
     ]
    }
   ],
   "source": [
    "kf = KFold(n_splits=10)\n",
    "curr_fold = 0\n",
    "acc_list = []\n",
    "\n",
    "for train_idx, test_idx in kf.split(X_train_sc):\n",
    "    clf = svm.SVC()\n",
    "    \n",
    "    clf.fit(X_train_sc[train_idx], y_train[train_idx])\n",
    "\n",
    "    # Predict unseen test data based on fitted classifer\n",
    "    predicted = clf.predict(X_train_sc[test_idx])\n",
    "\n",
    "    # Compute accuracy\n",
    "    acc = accuracy_score(y_train[test_idx].tolist(), predicted)\n",
    "    acc_list.append(acc)\n",
    "    experiment.log_metric(\"accuracy_fold_%s\" % curr_fold, acc)\n",
    "    \n",
    "\n",
    "    curr_fold += 1\n",
    "\n",
    "experiment.log_metric(\"average accuracy\", np.average(acc_list))"
   ]
  }
 ],
 "metadata": {
  "colab": {
   "name": "Cópia de MLworflow.ipynb",
   "provenance": []
  },
  "kernelspec": {
   "display_name": "Python 3",
   "language": "python",
   "name": "python3"
  },
  "language_info": {
   "codemirror_mode": {
    "name": "ipython",
    "version": 3
   },
   "file_extension": ".py",
   "mimetype": "text/x-python",
   "name": "python",
   "nbconvert_exporter": "python",
   "pygments_lexer": "ipython3",
   "version": "3.7.4"
  }
 },
 "nbformat": 4,
 "nbformat_minor": 4
}
